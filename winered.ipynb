{
  "cells": [
    {
      "cell_type": "markdown",
      "metadata": {
        "id": "view-in-github",
        "colab_type": "text"
      },
      "source": [
        "<a href=\"https://colab.research.google.com/github/anilaygunn/RedWineQualityGuesser/blob/main/winered.ipynb\" target=\"_parent\"><img src=\"https://colab.research.google.com/assets/colab-badge.svg\" alt=\"Open In Colab\"/></a>"
      ]
    },
    {
      "cell_type": "code",
      "execution_count": 1,
      "metadata": {
        "id": "ayXNxxGxq4Mt"
      },
      "outputs": [],
      "source": [
        "import pandas as pd\n",
        "import numpy as np\n",
        "import matplotlib.pyplot as plt\n",
        "import seaborn as sns\n"
      ]
    },
    {
      "cell_type": "code",
      "execution_count": null,
      "metadata": {
        "id": "KaKt0EsItF3P"
      },
      "outputs": [],
      "source": [
        "dataset = pd.read_csv(\"winequality-red.csv\")\n",
        "df = pd.DataFrame(dataset)\n",
        "df.info()\n",
        "df.describe()"
      ]
    },
    {
      "cell_type": "code",
      "execution_count": null,
      "metadata": {
        "id": "vZ4N5jWhtF0H"
      },
      "outputs": [],
      "source": [
        "corr_matrix = df.corr()\n",
        "plt.figure(figsize=(20,15))\n",
        "sns.heatmap(corr_matrix, annot=True)\n",
        "plt.show()\n"
      ]
    },
    {
      "cell_type": "code",
      "execution_count": null,
      "metadata": {
        "id": "LAfMw5NxtFwS"
      },
      "outputs": [],
      "source": [
        "cor_target = abs(corr_matrix[\"quality\"])\n",
        "relevant_features = cor_target[cor_target>0.1]\n",
        "type(relevant_features)\n",
        "relevant_features_frame = relevant_features.to_frame()\n",
        "row_names = relevant_features_frame.index\n",
        "row_names_list = list(row_names)\n",
        "row_names_list.append('quality')\n",
        "y_r = df['quality'].values\n",
        "X_r = df.drop(row_names_list, axis=1).values\n",
        "\n",
        "relevant_features_frame.describe()"
      ]
    },
    {
      "cell_type": "code",
      "execution_count": null,
      "metadata": {
        "id": "Vw_b1U7otFqe"
      },
      "outputs": [],
      "source": [
        "to_drop = cor_target[cor_target<0.1]\n",
        "type(to_drop)\n",
        "to_drop_frame = to_drop.to_frame()\n",
        "row_names = to_drop_frame.index\n",
        "row_names_list = list(row_names)\n",
        "row_names_list.append('quality')\n",
        "y_d = df['quality'].values\n",
        "X_d = df.drop(row_names_list, axis=1).values\n",
        "\n"
      ]
    },
    {
      "cell_type": "code",
      "execution_count": 7,
      "metadata": {
        "id": "3s8K33Cx3ZLc"
      },
      "outputs": [],
      "source": [
        "from sklearn.model_selection import train_test_split\n",
        "\n",
        "X_r_train, X_r_test, y_r_train, y_r_test = train_test_split(X_r,y_r,test_size=0.2,random_state=1)\n"
      ]
    },
    {
      "cell_type": "code",
      "source": [
        "from sklearn.tree import DecisionTreeClassifier\n",
        "\n",
        "classifier = DecisionTreeClassifier(criterion=\"entropy\",random_state = 0)\n",
        "classifier.fit(X_r_train,y_r_train)\n"
      ],
      "metadata": {
        "id": "SnAcfhyJE4hP"
      },
      "execution_count": null,
      "outputs": []
    },
    {
      "cell_type": "code",
      "source": [
        "y_pred = classifier.predict(X_r_test)\n",
        "print(np.concatenate((y_pred.reshape(len(y_pred),1),y_r_test.reshape(len(y_r_test),1)),1))"
      ],
      "metadata": {
        "id": "jzvFWtVvE4S0"
      },
      "execution_count": null,
      "outputs": []
    },
    {
      "cell_type": "code",
      "source": [
        "from sklearn.metrics import classification_report\n",
        "print(classification_report(y_r_test, y_pred))"
      ],
      "metadata": {
        "id": "ldNGJNX-Whnx"
      },
      "execution_count": null,
      "outputs": []
    }
  ],
  "metadata": {
    "colab": {
      "provenance": [],
      "authorship_tag": "ABX9TyO0UP640ZbwuqQ5CGIb4OSR",
      "include_colab_link": true
    },
    "kernelspec": {
      "display_name": "Python 3",
      "name": "python3"
    },
    "language_info": {
      "name": "python"
    }
  },
  "nbformat": 4,
  "nbformat_minor": 0
}